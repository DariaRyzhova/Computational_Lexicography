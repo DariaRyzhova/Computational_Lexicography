{
  "nbformat": 4,
  "nbformat_minor": 0,
  "metadata": {
    "kernelspec": {
      "display_name": "Python 3",
      "language": "python",
      "name": "python3"
    },
    "language_info": {
      "codemirror_mode": {
        "name": "ipython",
        "version": 3
      },
      "file_extension": ".py",
      "mimetype": "text/x-python",
      "name": "python",
      "nbconvert_exporter": "python",
      "pygments_lexer": "ipython3",
      "version": "3.6.0"
    },
    "colab": {
      "name": "CompLex_2021_WordNet",
      "provenance": []
    }
  },
  "cells": [
    {
      "cell_type": "markdown",
      "metadata": {
        "id": "5LqgpsY6RLG0"
      },
      "source": [
        "# WordNet"
      ]
    },
    {
      "cell_type": "markdown",
      "metadata": {
        "id": "Wp9YjmBXRLHC"
      },
      "source": [
        "### Полезные ссылки: <br>\n",
        "Главный сайт проекта: https://wordnet.princeton.edu/ <br>\n",
        "WordNet через nltk: http://www.nltk.org/howto/wordnet.html"
      ]
    },
    {
      "cell_type": "code",
      "metadata": {
        "colab": {
          "base_uri": "https://localhost:8080/"
        },
        "id": "cRRVpRKsRLHE",
        "outputId": "eaae0a10-365c-41be-9b31-ed255dab4731"
      },
      "source": [
        "import nltk\n",
        "nltk.download('wordnet')"
      ],
      "execution_count": 1,
      "outputs": [
        {
          "output_type": "stream",
          "text": [
            "[nltk_data] Downloading package wordnet to /root/nltk_data...\n",
            "[nltk_data]   Unzipping corpora/wordnet.zip.\n"
          ],
          "name": "stdout"
        },
        {
          "output_type": "execute_result",
          "data": {
            "text/plain": [
              "True"
            ]
          },
          "metadata": {
            "tags": []
          },
          "execution_count": 1
        }
      ]
    },
    {
      "cell_type": "code",
      "metadata": {
        "colab": {
          "base_uri": "https://localhost:8080/"
        },
        "id": "_1ipVefjpM6R",
        "outputId": "8eecd08a-c5cd-4296-8935-67e79d17318f"
      },
      "source": [
        "nltk.download('omw')"
      ],
      "execution_count": 2,
      "outputs": [
        {
          "output_type": "stream",
          "text": [
            "[nltk_data] Downloading package omw to /root/nltk_data...\n",
            "[nltk_data]   Unzipping corpora/omw.zip.\n"
          ],
          "name": "stdout"
        },
        {
          "output_type": "execute_result",
          "data": {
            "text/plain": [
              "True"
            ]
          },
          "metadata": {
            "tags": []
          },
          "execution_count": 2
        }
      ]
    },
    {
      "cell_type": "code",
      "metadata": {
        "collapsed": true,
        "id": "NKryi7_2RLHJ"
      },
      "source": [
        "from nltk.corpus import wordnet as wn"
      ],
      "execution_count": 3,
      "outputs": []
    },
    {
      "cell_type": "markdown",
      "metadata": {
        "id": "NMe8RAL0RLHL"
      },
      "source": [
        "Ищем все синсеты, в которых есть подстрока \"dog\":"
      ]
    },
    {
      "cell_type": "code",
      "metadata": {
        "colab": {
          "base_uri": "https://localhost:8080/"
        },
        "id": "GY1KDliRRLHM",
        "outputId": "1a55f593-c7e6-4ee6-c52f-7e6cfb62357c"
      },
      "source": [
        "example_synsets = wn.synsets('dog')\n",
        "print (example_synsets)"
      ],
      "execution_count": 4,
      "outputs": [
        {
          "output_type": "stream",
          "text": [
            "[Synset('dog.n.01'), Synset('frump.n.01'), Synset('dog.n.03'), Synset('cad.n.01'), Synset('frank.n.02'), Synset('pawl.n.01'), Synset('andiron.n.01'), Synset('chase.v.01')]\n"
          ],
          "name": "stdout"
        }
      ]
    },
    {
      "cell_type": "markdown",
      "metadata": {
        "id": "SNs5PEaRRLHO"
      },
      "source": [
        "Можно уточнить, какие именно части речи нас интересуют. Возможные варианты: NOUN, ADJ, ADV, VERB"
      ]
    },
    {
      "cell_type": "code",
      "metadata": {
        "colab": {
          "base_uri": "https://localhost:8080/"
        },
        "id": "Vb5cuOUXRLHP",
        "outputId": "a86c985c-8075-4b66-e654-d34b069ff580"
      },
      "source": [
        "dog_noun_synsets = wn.synsets('dog', pos=wn.NOUN)\n",
        "print (dog_noun_synsets)"
      ],
      "execution_count": null,
      "outputs": [
        {
          "output_type": "stream",
          "text": [
            "[Synset('dog.n.01'), Synset('frump.n.01'), Synset('dog.n.03'), Synset('cad.n.01'), Synset('frank.n.02'), Synset('pawl.n.01'), Synset('andiron.n.01')]\n"
          ],
          "name": "stdout"
        }
      ]
    },
    {
      "cell_type": "markdown",
      "metadata": {
        "id": "zS6MCN9jRLHR"
      },
      "source": [
        "Доступ ко всем синсетам и ко всем словам:"
      ]
    },
    {
      "cell_type": "code",
      "metadata": {
        "colab": {
          "base_uri": "https://localhost:8080/"
        },
        "id": "fiFvkzrqRLHS",
        "outputId": "9523a21e-caeb-41a6-aad3-eeb9da7092c6"
      },
      "source": [
        "print (len(list(wn.all_synsets())))\n",
        "print (len(list(wn.all_synsets('v'))))\n",
        "print (len(list(wn.all_lemma_names('a'))))"
      ],
      "execution_count": null,
      "outputs": [
        {
          "output_type": "stream",
          "text": [
            "117659\n",
            "13767\n",
            "21479\n"
          ],
          "name": "stdout"
        }
      ]
    },
    {
      "cell_type": "markdown",
      "metadata": {
        "id": "GAFSEFUgRLHU"
      },
      "source": [
        "Про синсет мы можем узнать: его имя (ID синсета), определение, ID относящихся к нему лемм, сами леммы; посмотреть примеры (если они есть) "
      ]
    },
    {
      "cell_type": "code",
      "metadata": {
        "colab": {
          "base_uri": "https://localhost:8080/"
        },
        "id": "JvLkfaAFRLHW",
        "outputId": "2ae3e33a-baaf-478b-b654-de6b3977ad7b"
      },
      "source": [
        "exemplar = wn.synset('dog.n.01')\n",
        "print (exemplar.name(), exemplar.definition(), exemplar.lemma_names(),\n",
        "       exemplar.examples())"
      ],
      "execution_count": 7,
      "outputs": [
        {
          "output_type": "stream",
          "text": [
            "dog.n.01 a member of the genus Canis (probably descended from the common wolf) that has been domesticated by man since prehistoric times; occurs in many breeds ['dog', 'domestic_dog', 'Canis_familiaris'] ['the dog barked all night']\n"
          ],
          "name": "stdout"
        }
      ]
    },
    {
      "cell_type": "markdown",
      "metadata": {
        "collapsed": true,
        "id": "8AWb8SKARLHX"
      },
      "source": [
        "Отношения между синсетами"
      ]
    },
    {
      "cell_type": "code",
      "metadata": {
        "colab": {
          "base_uri": "https://localhost:8080/"
        },
        "id": "AH4rDpLNRLHY",
        "outputId": "ba181ad7-f114-4b08-80d6-b9a547d8799f"
      },
      "source": [
        "print (exemplar.hyponyms())\n",
        "print (exemplar.hypernyms())\n",
        "print (exemplar.root_hypernyms())\n",
        "print (exemplar.member_holonyms())\n",
        "print (exemplar.member_meronyms())\n",
        "print (exemplar.similar_tos())"
      ],
      "execution_count": 8,
      "outputs": [
        {
          "output_type": "stream",
          "text": [
            "[Synset('basenji.n.01'), Synset('corgi.n.01'), Synset('cur.n.01'), Synset('dalmatian.n.02'), Synset('great_pyrenees.n.01'), Synset('griffon.n.02'), Synset('hunting_dog.n.01'), Synset('lapdog.n.01'), Synset('leonberg.n.01'), Synset('mexican_hairless.n.01'), Synset('newfoundland.n.01'), Synset('pooch.n.01'), Synset('poodle.n.01'), Synset('pug.n.01'), Synset('puppy.n.01'), Synset('spitz.n.01'), Synset('toy_dog.n.01'), Synset('working_dog.n.01')]\n",
            "[Synset('canine.n.02'), Synset('domestic_animal.n.01')]\n",
            "[Synset('entity.n.01')]\n",
            "[Synset('canis.n.01'), Synset('pack.n.06')]\n",
            "[]\n",
            "[]\n"
          ],
          "name": "stdout"
        }
      ]
    },
    {
      "cell_type": "markdown",
      "metadata": {
        "id": "Oc78p8o_RLHZ"
      },
      "source": [
        "Ближайший общий гипероним"
      ]
    },
    {
      "cell_type": "code",
      "metadata": {
        "colab": {
          "base_uri": "https://localhost:8080/"
        },
        "id": "OwAXQpdNRLHa",
        "outputId": "d5e4ebaa-8b8e-427a-9814-d195a5e05338"
      },
      "source": [
        "print(wn.synset('coffee.n.01').lowest_common_hypernyms(wn.synset('tea.n.01')))"
      ],
      "execution_count": null,
      "outputs": [
        {
          "output_type": "stream",
          "text": [
            "[Synset('beverage.n.01')]\n"
          ],
          "name": "stdout"
        }
      ]
    },
    {
      "cell_type": "markdown",
      "metadata": {
        "id": "q_C_SD4NRLHb"
      },
      "source": [
        "Расстояние между синсетами: <br>\n",
        "path_similarity - оценивает расстояние по кратчайшему пути между синсетами. <br>\n",
        "Значение - от 0 до 1, где 1 - максимальная степень близости."
      ]
    },
    {
      "cell_type": "code",
      "metadata": {
        "colab": {
          "base_uri": "https://localhost:8080/"
        },
        "id": "qoTTZXYYRLHc",
        "outputId": "4041a8d9-4555-4095-e2a6-5dcbfe040858"
      },
      "source": [
        "print(wn.synset('dog.n.01').path_similarity(wn.synset('cat.n.01')))\n",
        "print(wn.synset('person.n.01').path_similarity(wn.synset('cat.n.01')))\n",
        "print(wn.synset('dog.n.01').path_similarity(wn.synset('person.n.01')))"
      ],
      "execution_count": null,
      "outputs": [
        {
          "output_type": "stream",
          "text": [
            "0.2\n",
            "0.1\n",
            "0.2\n"
          ],
          "name": "stdout"
        }
      ]
    },
    {
      "cell_type": "code",
      "metadata": {
        "colab": {
          "base_uri": "https://localhost:8080/"
        },
        "id": "PP8EzVKSvkji",
        "outputId": "d6ed2abd-234b-4426-c8b9-46b25d64008a"
      },
      "source": [
        "synset_names = ['milk.n.01', 'white.a.01', 'chocolate.n.01', 'meat.n.01', 'mountain.n.01', 'walk.v.01', 'horse.n.01']\n",
        "for name in synset_names:\n",
        "  synset = wn.synset(name)\n",
        "  print (synset.name(), wn.synset('cow.n.01').path_similarity(synset))"
      ],
      "execution_count": null,
      "outputs": [
        {
          "output_type": "stream",
          "text": [
            "milk.n.01 0.045454545454545456\n",
            "white.a.01 None\n",
            "cocoa.n.01 0.045454545454545456\n",
            "meat.n.01 0.047619047619047616\n",
            "mountain.n.01 0.05263157894736842\n",
            "walk.v.01 None\n",
            "horse.n.01 0.1\n"
          ],
          "name": "stdout"
        }
      ]
    },
    {
      "cell_type": "markdown",
      "metadata": {
        "id": "y-dgFq-dRLHc"
      },
      "source": [
        "Деривационные отношения и отношение антонимии определены только для лемм:"
      ]
    },
    {
      "cell_type": "code",
      "metadata": {
        "colab": {
          "base_uri": "https://localhost:8080/"
        },
        "id": "oL3dVH1fRLHe",
        "outputId": "6453d43b-50e3-43c3-f60a-9da9292e515e"
      },
      "source": [
        "for lemma in wn.lemmas('personal'):\n",
        "    print (lemma)\n",
        "    print ('Pertainyms:', lemma.pertainyms())\n",
        "    print ('Antonyms:', lemma.antonyms())\n",
        "    print ('Derivationally related forms:', lemma.derivationally_related_forms())"
      ],
      "execution_count": null,
      "outputs": [
        {
          "output_type": "stream",
          "text": [
            "Lemma('personal.n.01.personal')\n",
            "Pertainyms: []\n",
            "Antonyms: []\n",
            "Derivationally related forms: []\n",
            "Lemma('personal.a.01.personal')\n",
            "Pertainyms: []\n",
            "Antonyms: [Lemma('impersonal.a.01.impersonal')]\n",
            "Derivationally related forms: []\n",
            "Lemma('personal.s.02.personal')\n",
            "Pertainyms: []\n",
            "Antonyms: []\n",
            "Derivationally related forms: []\n",
            "Lemma('personal.a.03.personal')\n",
            "Pertainyms: [Lemma('personality.n.01.personality')]\n",
            "Antonyms: []\n",
            "Derivationally related forms: [Lemma('personality.n.01.personality')]\n",
            "Lemma('personal.s.04.personal')\n",
            "Pertainyms: []\n",
            "Antonyms: []\n",
            "Derivationally related forms: []\n",
            "Lemma('personal.a.05.personal')\n",
            "Pertainyms: [Lemma('person.n.03.person')]\n",
            "Antonyms: []\n",
            "Derivationally related forms: []\n"
          ],
          "name": "stdout"
        }
      ]
    },
    {
      "cell_type": "markdown",
      "metadata": {
        "id": "y48tTIyuRLHg"
      },
      "source": [
        "## MultiWordNet"
      ]
    },
    {
      "cell_type": "markdown",
      "metadata": {
        "id": "3s2NGVvvRLHh"
      },
      "source": [
        "http://compling.hss.ntu.edu.sg/omw/ <br>\n",
        "Условные обозначения языков: коды ISO-639"
      ]
    },
    {
      "cell_type": "code",
      "metadata": {
        "id": "XvD3AhJZRLHh",
        "colab": {
          "base_uri": "https://localhost:8080/"
        },
        "outputId": "e6a3e909-29d3-42ba-fdd5-8bd123752717"
      },
      "source": [
        "sorted(wn.langs()), len(wn.langs())"
      ],
      "execution_count": null,
      "outputs": [
        {
          "output_type": "execute_result",
          "data": {
            "text/plain": [
              "(['als',\n",
              "  'arb',\n",
              "  'bul',\n",
              "  'cat',\n",
              "  'cmn',\n",
              "  'dan',\n",
              "  'ell',\n",
              "  'eng',\n",
              "  'eus',\n",
              "  'fas',\n",
              "  'fin',\n",
              "  'fra',\n",
              "  'glg',\n",
              "  'heb',\n",
              "  'hrv',\n",
              "  'ind',\n",
              "  'ita',\n",
              "  'jpn',\n",
              "  'nld',\n",
              "  'nno',\n",
              "  'nob',\n",
              "  'pol',\n",
              "  'por',\n",
              "  'qcn',\n",
              "  'slv',\n",
              "  'spa',\n",
              "  'swe',\n",
              "  'tha',\n",
              "  'zsm'],\n",
              " 29)"
            ]
          },
          "metadata": {
            "tags": []
          },
          "execution_count": 12
        }
      ]
    },
    {
      "cell_type": "code",
      "metadata": {
        "id": "e2TCfbNuRLHi",
        "colab": {
          "base_uri": "https://localhost:8080/"
        },
        "outputId": "09e80fb4-f108-42a9-ff99-4b12224f7054"
      },
      "source": [
        "print (exemplar.lemma_names('fra'))\n",
        "print (exemplar.lemma_names('hrv'))\n",
        "print (exemplar.lemma_names('jpn'))"
      ],
      "execution_count": 9,
      "outputs": [
        {
          "output_type": "stream",
          "text": [
            "['canis_familiaris', 'chien']\n",
            "['Canis_lupus_familiaris', 'domaći_pas', 'pas']\n",
            "['イヌ', 'ドッグ', '洋犬', '犬', '飼犬', '飼い犬']\n"
          ],
          "name": "stdout"
        }
      ]
    },
    {
      "cell_type": "markdown",
      "metadata": {
        "id": "FaccbTjU77q_"
      },
      "source": [
        "Практические задания:\n",
        "\n",
        "\n",
        "1.   Составьте с помощью WordNet список существительных, которые могут выступать в качестве прямого дополнения при глаголе to eat, через поиск общего гиперонима для слов meat и potatos. \n",
        "2.   Найдите 10 ближайших синсетов к синсету 'cow.n.01'.\n",
        "\n"
      ]
    }
  ]
}