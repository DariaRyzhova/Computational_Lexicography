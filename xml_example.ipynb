{
 "cells": [
  {
   "cell_type": "code",
   "execution_count": 1,
   "metadata": {
    "collapsed": true
   },
   "outputs": [],
   "source": [
    "import xml.etree.ElementTree as ET"
   ]
  },
  {
   "cell_type": "markdown",
   "metadata": {},
   "source": [
    "Сначала парсим весь документ, кладем всё дерево в переменную tree, а в переменную root - корень этого дерева."
   ]
  },
  {
   "cell_type": "code",
   "execution_count": 2,
   "metadata": {
    "collapsed": false
   },
   "outputs": [
    {
     "name": "stdout",
     "output_type": "stream",
     "text": [
      "data {}\n"
     ]
    }
   ],
   "source": [
    "tree = ET.parse('./example.xml')\n",
    "root = tree.getroot()\n",
    "print (root.tag, root.attrib)"
   ]
  },
  {
   "cell_type": "markdown",
   "metadata": {},
   "source": [
    "Перебор всех дочерних элементов корневого узла:"
   ]
  },
  {
   "cell_type": "code",
   "execution_count": 5,
   "metadata": {
    "collapsed": false
   },
   "outputs": [
    {
     "name": "stdout",
     "output_type": "stream",
     "text": [
      "country {'name': 'Liechtenstein'}\n",
      "Liechtenstein\n",
      "country {'name': 'Singapore'}\n",
      "Singapore\n",
      "country {'name': 'Panama'}\n",
      "Panama\n"
     ]
    }
   ],
   "source": [
    "for child in root:\n",
    "    print (child.tag, child.attrib)\n",
    "    # Выводим значение каждого атрибута:\n",
    "    for value in child.attrib:\n",
    "        print (child.attrib[value])\n",
    "    # или:\n",
    "    #value = child.get('name') # получаем значение атрибута name\n",
    "    #print (value)"
   ]
  },
  {
   "cell_type": "markdown",
   "metadata": {},
   "source": [
    "Поиск по всему дереву:"
   ]
  },
  {
   "cell_type": "code",
   "execution_count": 6,
   "metadata": {
    "collapsed": false
   },
   "outputs": [
    {
     "name": "stdout",
     "output_type": "stream",
     "text": [
      "2008\n",
      " ok\n",
      "        \n",
      "2011\n",
      " yes\n",
      "        \n",
      "2011\n",
      " no\n",
      "        \n"
     ]
    }
   ],
   "source": [
    "for year in tree.iter('year'): # для каждого элемента дерева с тегом year\n",
    "    print (year.text) # печатаем всё, что находится между открывающим и закрывающим тегом\n",
    "    print (year.tail) # печатаем всё, что находится после последнего закрывающего тега и перед первым открывающим"
   ]
  },
  {
   "cell_type": "markdown",
   "metadata": {},
   "source": [
    "Поиск по непосредственным дочерним элементам узла:"
   ]
  },
  {
   "cell_type": "code",
   "execution_count": 7,
   "metadata": {
    "collapsed": false
   },
   "outputs": [
    {
     "name": "stdout",
     "output_type": "stream",
     "text": [
      "country {'name': 'Liechtenstein'}\n",
      "country {'name': 'Singapore'}\n",
      "country {'name': 'Panama'}\n"
     ]
    }
   ],
   "source": [
    "for country in tree.findall('country'): # ищем все элементы с тегом country, но только среди непосредственных дочерних элементов исходного\n",
    "    print (country.tag, country.attrib)"
   ]
  },
  {
   "cell_type": "markdown",
   "metadata": {},
   "source": [
    "Поиск первого подходящего варианта среди непосредственных дочерних элементов узла:"
   ]
  },
  {
   "cell_type": "code",
   "execution_count": 8,
   "metadata": {
    "collapsed": false
   },
   "outputs": [
    {
     "name": "stdout",
     "output_type": "stream",
     "text": [
      "country {'name': 'Liechtenstein'}\n"
     ]
    }
   ],
   "source": [
    "country = root.find('country') # ищем первый элемент с тегом country, тоже только среди детей исходного элемента\n",
    "print (country.tag, country.attrib)"
   ]
  },
  {
   "cell_type": "code",
   "execution_count": null,
   "metadata": {
    "collapsed": true
   },
   "outputs": [],
   "source": []
  }
 ],
 "metadata": {
  "kernelspec": {
   "display_name": "Python 3",
   "language": "python",
   "name": "python3"
  },
  "language_info": {
   "codemirror_mode": {
    "name": "ipython",
    "version": 3
   },
   "file_extension": ".py",
   "mimetype": "text/x-python",
   "name": "python",
   "nbconvert_exporter": "python",
   "pygments_lexer": "ipython3",
   "version": "3.6.0"
  }
 },
 "nbformat": 4,
 "nbformat_minor": 2
}
